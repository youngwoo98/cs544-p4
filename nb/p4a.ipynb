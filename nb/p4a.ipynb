{
 "cells": [
  {
   "cell_type": "code",
   "execution_count": 1,
   "id": "670094b6-0a5c-48b7-b721-9eb6aef007fe",
   "metadata": {},
   "outputs": [
    {
     "name": "stdout",
     "output_type": "stream",
     "text": [
      "Configured Capacity: 51642105856 (48.10 GB)\n",
      "Present Capacity: 20871262208 (19.44 GB)\n",
      "DFS Remaining: 20340154368 (18.94 GB)\n",
      "DFS Used: 531107840 (506.50 MB)\n",
      "DFS Used%: 2.54%\n",
      "Replicated Blocks:\n",
      "\tUnder replicated blocks: 0\n",
      "\tBlocks with corrupt replicas: 0\n",
      "\tMissing blocks: 0\n",
      "\tMissing blocks (with replication factor 1): 0\n",
      "\tLow redundancy blocks with highest priority to recover: 0\n",
      "\tPending deletion blocks: 0\n",
      "Erasure Coded Block Groups: \n",
      "\tLow redundancy block groups: 0\n",
      "\tBlock groups with corrupt internal blocks: 0\n",
      "\tMissing block groups: 0\n",
      "\tLow redundancy blocks with highest priority to recover: 0\n",
      "\tPending deletion blocks: 0\n",
      "\n",
      "-------------------------------------------------\n",
      "Live datanodes (2):\n",
      "\n",
      "Name: 172.18.0.2:9866 (project-4-neoul-bom-slow-village-makgeolli-dn-1.project-4-neoul-bom-slow-village-makgeolli_default)\n",
      "Hostname: 24161900af0d\n",
      "Decommission Status : Normal\n",
      "Configured Capacity: 25821052928 (24.05 GB)\n",
      "DFS Used: 271425620 (258.85 MB)\n",
      "Non DFS Used: 15362772908 (14.31 GB)\n",
      "DFS Remaining: 10170077184 (9.47 GB)\n",
      "DFS Used%: 1.05%\n",
      "DFS Remaining%: 39.39%\n",
      "Configured Cache Capacity: 0 (0 B)\n",
      "Cache Used: 0 (0 B)\n",
      "Cache Remaining: 0 (0 B)\n",
      "Cache Used%: 100.00%\n",
      "Cache Remaining%: 0.00%\n",
      "Xceivers: 0\n",
      "Last contact: Thu Oct 26 20:21:41 GMT 2023\n",
      "Last Block Report: Thu Oct 26 20:06:26 GMT 2023\n",
      "Num of Blocks: 256\n",
      "\n",
      "\n",
      "Name: 172.18.0.5:9866 (project-4-neoul-bom-slow-village-makgeolli-dn-2.project-4-neoul-bom-slow-village-makgeolli_default)\n",
      "Hostname: 0732a1c305bd\n",
      "Decommission Status : Normal\n",
      "Configured Capacity: 25821052928 (24.05 GB)\n",
      "DFS Used: 259682220 (247.65 MB)\n",
      "Non DFS Used: 15374516308 (14.32 GB)\n",
      "DFS Remaining: 10170077184 (9.47 GB)\n",
      "DFS Used%: 1.01%\n",
      "DFS Remaining%: 39.39%\n",
      "Configured Cache Capacity: 0 (0 B)\n",
      "Cache Used: 0 (0 B)\n",
      "Cache Remaining: 0 (0 B)\n",
      "Cache Used%: 100.00%\n",
      "Cache Remaining%: 0.00%\n",
      "Xceivers: 0\n",
      "Last contact: Thu Oct 26 20:21:41 GMT 2023\n",
      "Last Block Report: Thu Oct 26 20:06:26 GMT 2023\n",
      "Num of Blocks: 245\n",
      "\n",
      "\n"
     ]
    }
   ],
   "source": [
    "#q1\n",
    "!hdfs dfsadmin -fs hdfs://boss:9000 -report"
   ]
  },
  {
   "cell_type": "code",
   "execution_count": 2,
   "id": "7f95a5a4-539a-404b-9635-2a6b599ba450",
   "metadata": {},
   "outputs": [],
   "source": [
    "# clear hdma-wi-2021.csv file\n",
    "!rm -f ./hdma-wi-2021.csv"
   ]
  },
  {
   "cell_type": "code",
   "execution_count": 3,
   "id": "ae5c6459-a860-4dd7-b876-a7f59ebe0caf",
   "metadata": {},
   "outputs": [
    {
     "name": "stdout",
     "output_type": "stream",
     "text": [
      "--2023-10-26 20:21:43--  https://pages.cs.wisc.edu/~harter/cs544/data/hdma-wi-2021.csv\n",
      "Resolving pages.cs.wisc.edu (pages.cs.wisc.edu)... 128.105.7.9\n",
      "Connecting to pages.cs.wisc.edu (pages.cs.wisc.edu)|128.105.7.9|:443... connected.\n",
      "HTTP request sent, awaiting response... 200 OK\n",
      "Length: 174944099 (167M) [text/csv]\n",
      "Saving to: ‘hdma-wi-2021.csv’\n",
      "\n",
      "hdma-wi-2021.csv    100%[===================>] 166.84M  87.7MB/s    in 1.9s    \n",
      "\n",
      "2023-10-26 20:21:45 (87.7 MB/s) - ‘hdma-wi-2021.csv’ saved [174944099/174944099]\n",
      "\n"
     ]
    }
   ],
   "source": [
    "# download hdma-wi-2021.csv\n",
    "!wget https://pages.cs.wisc.edu/~harter/cs544/data/hdma-wi-2021.csv"
   ]
  },
  {
   "cell_type": "code",
   "execution_count": 4,
   "id": "6063ba88-7e62-4158-afe8-d69c459a3493",
   "metadata": {},
   "outputs": [
    {
     "name": "stdout",
     "output_type": "stream",
     "text": [
      "Deleted hdfs://boss:9000/single.csv\n",
      "Deleted hdfs://boss:9000/double.csv\n"
     ]
    }
   ],
   "source": [
    "# clear csv files\n",
    "!hdfs dfs -rm -f hdfs://boss:9000/single.csv\n",
    "!hdfs dfs -rm -f hdfs://boss:9000/double.csv"
   ]
  },
  {
   "cell_type": "code",
   "execution_count": 5,
   "id": "b90ab9e4-c1c6-453c-b3a5-fa6ed640d1aa",
   "metadata": {},
   "outputs": [],
   "source": [
    "# copy csv file\n",
    "!hdfs dfs -D dfs.block.size=1048576 -D dfs.replication=1 -cp ./hdma-wi-2021.csv hdfs://boss:9000/single.csv\n",
    "!hdfs dfs -D dfs.block.size=1048576 -D dfs.replication=2 -cp ./hdma-wi-2021.csv hdfs://boss:9000/double.csv"
   ]
  },
  {
   "cell_type": "code",
   "execution_count": 6,
   "id": "d57ea071-4718-4987-8b3e-2b6b785e6b8f",
   "metadata": {},
   "outputs": [],
   "source": [
    "# clear hdma-wi-2021.csv file\n",
    "!rm -f ./hdma-wi-2021.csv"
   ]
  },
  {
   "cell_type": "code",
   "execution_count": 7,
   "id": "b431d919-0164-485d-8052-25f28c86e6e8",
   "metadata": {},
   "outputs": [
    {
     "name": "stdout",
     "output_type": "stream",
     "text": [
      "166.8 M  333.7 M  hdfs://boss:9000/double.csv\n",
      "166.8 M  166.8 M  hdfs://boss:9000/single.csv\n"
     ]
    }
   ],
   "source": [
    "#q2\n",
    "!hdfs dfs -du -h hdfs://boss:9000/*"
   ]
  },
  {
   "cell_type": "code",
   "execution_count": 8,
   "id": "c72a9862-8103-42aa-84cc-e45f6f686726",
   "metadata": {},
   "outputs": [],
   "source": [
    "import requests"
   ]
  },
  {
   "cell_type": "code",
   "execution_count": 9,
   "id": "68f09ae9-00c8-45c6-8cf8-90abc2164bfd",
   "metadata": {},
   "outputs": [
    {
     "data": {
      "text/plain": [
       "{'FileStatus': {'accessTime': 1698351715256,\n",
       "  'blockSize': 1048576,\n",
       "  'childrenNum': 0,\n",
       "  'fileId': 16392,\n",
       "  'group': 'supergroup',\n",
       "  'length': 174944099,\n",
       "  'modificationTime': 1698351718608,\n",
       "  'owner': 'root',\n",
       "  'pathSuffix': '',\n",
       "  'permission': '644',\n",
       "  'replication': 1,\n",
       "  'storagePolicy': 0,\n",
       "  'type': 'FILE'}}"
      ]
     },
     "execution_count": 9,
     "metadata": {},
     "output_type": "execute_result"
    }
   ],
   "source": [
    "#q3\n",
    "r = requests.get(\"http://boss:9870/webhdfs/v1/single.csv?op=GETFILESTATUS\")\n",
    "r.raise_for_status()\n",
    "r.json()"
   ]
  },
  {
   "cell_type": "code",
   "execution_count": 10,
   "id": "8525ff09-3374-4297-8c5d-7b8f38935a4d",
   "metadata": {},
   "outputs": [],
   "source": [
    "blockSize = r.json()['FileStatus']['blockSize']\n",
    "length = r.json()['FileStatus']['length']"
   ]
  },
  {
   "cell_type": "code",
   "execution_count": 11,
   "id": "c83221cb-d48a-4304-82af-fc80d2e3b9d8",
   "metadata": {},
   "outputs": [
    {
     "data": {
      "text/plain": [
       "'http://0732a1c305bd:9864/webhdfs/v1/single.csv?op=OPEN&namenoderpcaddress=boss:9000&offset=0'"
      ]
     },
     "execution_count": 11,
     "metadata": {},
     "output_type": "execute_result"
    }
   ],
   "source": [
    "#q4\n",
    "r = requests.get(\"http://boss:9870/webhdfs/v1/single.csv?op=OPEN&offset=0&noredirect=true\")\n",
    "r.raise_for_status()\n",
    "r.json()[\"Location\"]"
   ]
  },
  {
   "cell_type": "code",
   "execution_count": 12,
   "id": "7ea1db80-8290-4d5a-bb6c-1bc207ced981",
   "metadata": {},
   "outputs": [],
   "source": [
    "r = requests.get(\"http://boss:9870/webhdfs/v1/single.csv?op=GETFILEBLOCKLOCATIONS\")\n",
    "r.raise_for_status()\n",
    "blocks = r.json()['BlockLocations']['BlockLocation']  "
   ]
  },
  {
   "cell_type": "code",
   "execution_count": 13,
   "id": "09d4b16d-478c-44cd-8d9b-78a0790b75d6",
   "metadata": {},
   "outputs": [
    {
     "data": {
      "text/plain": [
       "{'0732a1c305bd': 82, '24161900af0d': 85}"
      ]
     },
     "execution_count": 13,
     "metadata": {},
     "output_type": "execute_result"
    }
   ],
   "source": [
    "#q5\n",
    "id = {}\n",
    "for i in range(len(blocks)):\n",
    "    blocks[i] = blocks[i]['hosts'][0]\n",
    "for i in blocks:\n",
    "    id[i] = id.get(i, 0) + 1\n",
    "id"
   ]
  },
  {
   "cell_type": "code",
   "execution_count": 14,
   "id": "986917e0-33be-45f3-a49b-86b41585f549",
   "metadata": {},
   "outputs": [
    {
     "name": "stderr",
     "output_type": "stream",
     "text": [
      "2023-10-26 20:22:14,919 WARN util.NativeCodeLoader: Unable to load native-hadoop library for your platform... using builtin-java classes where applicable\n"
     ]
    }
   ],
   "source": [
    "import pyarrow as pa\n",
    "import pyarrow.fs\n",
    "hdfs = pa.fs.HadoopFileSystem(\"boss\", 9000)"
   ]
  },
  {
   "cell_type": "code",
   "execution_count": 15,
   "id": "2075f791-8223-463c-a893-5f1ab8f917c6",
   "metadata": {},
   "outputs": [],
   "source": [
    "f = hdfs.open_input_file(\"/single.csv\")"
   ]
  },
  {
   "cell_type": "code",
   "execution_count": 16,
   "id": "c02afd85-7a52-4302-97db-e645b5002030",
   "metadata": {},
   "outputs": [
    {
     "data": {
      "text/plain": [
       "b'activity_y'"
      ]
     },
     "execution_count": 16,
     "metadata": {},
     "output_type": "execute_result"
    }
   ],
   "source": [
    "#q6\n",
    "f.read_at(10, 0)"
   ]
  },
  {
   "cell_type": "code",
   "execution_count": 17,
   "id": "e981c3b9-ca53-4107-9121-ec4016d4ab93",
   "metadata": {},
   "outputs": [],
   "source": [
    "import io"
   ]
  },
  {
   "cell_type": "code",
   "execution_count": 18,
   "id": "c582ee39-a83c-4e46-b9ef-68154b18aa55",
   "metadata": {},
   "outputs": [
    {
     "data": {
      "text/plain": [
       "444874"
      ]
     },
     "execution_count": 18,
     "metadata": {},
     "output_type": "execute_result"
    }
   ],
   "source": [
    "#q7\n",
    "count = 0\n",
    "target = \"Single Family\"\n",
    "with hdfs.open_input_file(\"/single.csv\") as f:\n",
    "    reader = io.TextIOWrapper(io.BufferedReader(f))\n",
    "    for i, line in enumerate(reader):\n",
    "        if target in line:\n",
    "            count += 1\n",
    "count"
   ]
  }
 ],
 "metadata": {
  "kernelspec": {
   "display_name": "Python 3 (ipykernel)",
   "language": "python",
   "name": "python3"
  },
  "language_info": {
   "codemirror_mode": {
    "name": "ipython",
    "version": 3
   },
   "file_extension": ".py",
   "mimetype": "text/x-python",
   "name": "python",
   "nbconvert_exporter": "python",
   "pygments_lexer": "ipython3",
   "version": "3.10.12"
  }
 },
 "nbformat": 4,
 "nbformat_minor": 5
}
