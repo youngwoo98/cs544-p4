{
 "cells": [
  {
   "cell_type": "code",
   "execution_count": 1,
   "id": "db812483-90e9-4566-944b-b7f0710270df",
   "metadata": {},
   "outputs": [
    {
     "name": "stdout",
     "output_type": "stream",
     "text": [
      "Configured Capacity: 51642105856 (48.10 GB)\n",
      "Present Capacity: 21407506432 (19.94 GB)\n",
      "DFS Remaining: 21407457280 (19.94 GB)\n",
      "DFS Used: 49152 (48 KB)\n",
      "DFS Used%: 0.00%\n",
      "Replicated Blocks:\n",
      "\tUnder replicated blocks: 0\n",
      "\tBlocks with corrupt replicas: 0\n",
      "\tMissing blocks: 0\n",
      "\tMissing blocks (with replication factor 1): 0\n",
      "\tLow redundancy blocks with highest priority to recover: 0\n",
      "\tPending deletion blocks: 0\n",
      "Erasure Coded Block Groups: \n",
      "\tLow redundancy block groups: 0\n",
      "\tBlock groups with corrupt internal blocks: 0\n",
      "\tMissing block groups: 0\n",
      "\tLow redundancy blocks with highest priority to recover: 0\n",
      "\tPending deletion blocks: 0\n",
      "\n",
      "-------------------------------------------------\n",
      "Live datanodes (2):\n",
      "\n",
      "Name: 172.18.0.3:9866 (project-4-neoul-bom-slow-village-makgeolli-dn-1.project-4-neoul-bom-slow-village-makgeolli_default)\n",
      "Hostname: 157fa5349bd2\n",
      "Decommission Status : Normal\n",
      "Configured Capacity: 25821052928 (24.05 GB)\n",
      "DFS Used: 24576 (24 KB)\n",
      "Non DFS Used: 15100538880 (14.06 GB)\n",
      "DFS Remaining: 10703712256 (9.97 GB)\n",
      "DFS Used%: 0.00%\n",
      "DFS Remaining%: 41.45%\n",
      "Configured Cache Capacity: 0 (0 B)\n",
      "Cache Used: 0 (0 B)\n",
      "Cache Remaining: 0 (0 B)\n",
      "Cache Used%: 100.00%\n",
      "Cache Remaining%: 0.00%\n",
      "Xceivers: 0\n",
      "Last contact: Thu Oct 26 20:52:37 GMT 2023\n",
      "Last Block Report: Thu Oct 26 20:50:55 GMT 2023\n",
      "Num of Blocks: 0\n",
      "\n",
      "\n",
      "Name: 172.18.0.5:9866 (project-4-neoul-bom-slow-village-makgeolli-dn-2.project-4-neoul-bom-slow-village-makgeolli_default)\n",
      "Hostname: e84804b92a45\n",
      "Decommission Status : Normal\n",
      "Configured Capacity: 25821052928 (24.05 GB)\n",
      "DFS Used: 24576 (24 KB)\n",
      "Non DFS Used: 15100506112 (14.06 GB)\n",
      "DFS Remaining: 10703745024 (9.97 GB)\n",
      "DFS Used%: 0.00%\n",
      "DFS Remaining%: 41.45%\n",
      "Configured Cache Capacity: 0 (0 B)\n",
      "Cache Used: 0 (0 B)\n",
      "Cache Remaining: 0 (0 B)\n",
      "Cache Used%: 100.00%\n",
      "Cache Remaining%: 0.00%\n",
      "Xceivers: 0\n",
      "Last contact: Thu Oct 26 20:52:37 GMT 2023\n",
      "Last Block Report: Thu Oct 26 20:50:55 GMT 2023\n",
      "Num of Blocks: 0\n",
      "\n",
      "\n"
     ]
    }
   ],
   "source": [
    "#q8\n",
    "!hdfs dfsadmin -fs hdfs://boss:9000 -report"
   ]
  },
  {
   "cell_type": "code",
   "execution_count": 2,
   "id": "898b2e32-c342-4c7a-a520-8967dbeaca72",
   "metadata": {},
   "outputs": [],
   "source": [
    "import time\n",
    "time.sleep(30)"
   ]
  },
  {
   "cell_type": "code",
   "execution_count": 3,
   "id": "620c37e7-2764-4764-8d08-112ecb740fa1",
   "metadata": {},
   "outputs": [
    {
     "ename": "KeyError",
     "evalue": "'BlockLocations'",
     "output_type": "error",
     "traceback": [
      "\u001b[0;31m---------------------------------------------------------------------------\u001b[0m",
      "\u001b[0;31mKeyError\u001b[0m                                  Traceback (most recent call last)",
      "Cell \u001b[0;32mIn[3], line 5\u001b[0m\n\u001b[1;32m      3\u001b[0m r \u001b[38;5;241m=\u001b[39m requests\u001b[38;5;241m.\u001b[39mget(\u001b[38;5;124m\"\u001b[39m\u001b[38;5;124mhttp://boss:9870/webhdfs/v1/single.csv?op=GETFILEBLOCKLOCATIONS\u001b[39m\u001b[38;5;124m\"\u001b[39m)\n\u001b[1;32m      4\u001b[0m r\u001b[38;5;241m.\u001b[39mjson()\n\u001b[0;32m----> 5\u001b[0m blocks \u001b[38;5;241m=\u001b[39m \u001b[43mr\u001b[49m\u001b[38;5;241;43m.\u001b[39;49m\u001b[43mjson\u001b[49m\u001b[43m(\u001b[49m\u001b[43m)\u001b[49m\u001b[43m[\u001b[49m\u001b[38;5;124;43m'\u001b[39;49m\u001b[38;5;124;43mBlockLocations\u001b[39;49m\u001b[38;5;124;43m'\u001b[39;49m\u001b[43m]\u001b[49m[\u001b[38;5;124m'\u001b[39m\u001b[38;5;124mBlockLocation\u001b[39m\u001b[38;5;124m'\u001b[39m]\n",
      "\u001b[0;31mKeyError\u001b[0m: 'BlockLocations'"
     ]
    }
   ],
   "source": [
    "import requests\n",
    "count = 0\n",
    "r = requests.get(\"http://boss:9870/webhdfs/v1/single.csv?op=GETFILEBLOCKLOCATIONS\")\n",
    "r.json()\n",
    "blocks = r.json()['BlockLocations']['BlockLocation']"
   ]
  },
  {
   "cell_type": "code",
   "execution_count": null,
   "id": "f86e4911-2606-42f7-9194-7916044a023f",
   "metadata": {},
   "outputs": [],
   "source": [
    "#q9\n",
    "id = {}\n",
    "for i in range(len(blocks)):\n",
    "    if len(blocks[i]['hosts']) == 0:\n",
    "        blocks[i] = 'lost'\n",
    "    else:\n",
    "        blocks[i] = blocks[i]['hosts'][0]\n",
    "for i in blocks:\n",
    "    id[i] = id.get(i, 0) + 1\n",
    "id        "
   ]
  },
  {
   "cell_type": "code",
   "execution_count": null,
   "id": "ac7a9f3e-b30c-438b-a590-05ec531371bc",
   "metadata": {},
   "outputs": [],
   "source": [
    "import pyarrow as pa\n",
    "import pyarrow.fs\n",
    "import io"
   ]
  },
  {
   "cell_type": "code",
   "execution_count": 4,
   "id": "050012de-d6b2-420b-93f0-1b686a7f27c1",
   "metadata": {},
   "outputs": [
    {
     "ename": "KeyError",
     "evalue": "'BlockLocations'",
     "output_type": "error",
     "traceback": [
      "\u001b[0;31m---------------------------------------------------------------------------\u001b[0m",
      "\u001b[0;31mKeyError\u001b[0m                                  Traceback (most recent call last)",
      "Cell \u001b[0;32mIn[4], line 2\u001b[0m\n\u001b[1;32m      1\u001b[0m r \u001b[38;5;241m=\u001b[39m requests\u001b[38;5;241m.\u001b[39mget(\u001b[38;5;124m\"\u001b[39m\u001b[38;5;124mhttp://boss:9870/webhdfs/v1/single.csv?op=GETFILEBLOCKLOCATIONS\u001b[39m\u001b[38;5;124m\"\u001b[39m)\n\u001b[0;32m----> 2\u001b[0m blocks \u001b[38;5;241m=\u001b[39m \u001b[43mr\u001b[49m\u001b[38;5;241;43m.\u001b[39;49m\u001b[43mjson\u001b[49m\u001b[43m(\u001b[49m\u001b[43m)\u001b[49m\u001b[43m[\u001b[49m\u001b[38;5;124;43m'\u001b[39;49m\u001b[38;5;124;43mBlockLocations\u001b[39;49m\u001b[38;5;124;43m'\u001b[39;49m\u001b[43m]\u001b[49m[\u001b[38;5;124m'\u001b[39m\u001b[38;5;124mBlockLocation\u001b[39m\u001b[38;5;124m'\u001b[39m]\n\u001b[1;32m      4\u001b[0m hdfs \u001b[38;5;241m=\u001b[39m pa\u001b[38;5;241m.\u001b[39mfs\u001b[38;5;241m.\u001b[39mHadoopFileSystem(\u001b[38;5;124m\"\u001b[39m\u001b[38;5;124mboss\u001b[39m\u001b[38;5;124m\"\u001b[39m, \u001b[38;5;241m9000\u001b[39m)\n\u001b[1;32m      5\u001b[0m f \u001b[38;5;241m=\u001b[39m hdfs\u001b[38;5;241m.\u001b[39mopen_input_file(\u001b[38;5;124m\"\u001b[39m\u001b[38;5;124m/single.csv\u001b[39m\u001b[38;5;124m\"\u001b[39m)\n",
      "\u001b[0;31mKeyError\u001b[0m: 'BlockLocations'"
     ]
    }
   ],
   "source": [
    "r = requests.get(\"http://boss:9870/webhdfs/v1/single.csv?op=GETFILEBLOCKLOCATIONS\")\n",
    "blocks = r.json()['BlockLocations']['BlockLocation']\n",
    "\n",
    "hdfs = pa.fs.HadoopFileSystem(\"boss\", 9000)\n",
    "f = hdfs.open_input_file(\"/single.csv\")"
   ]
  },
  {
   "cell_type": "code",
   "execution_count": null,
   "id": "e307fc87-ee90-4aaa-a69a-81bdf9614ff2",
   "metadata": {},
   "outputs": [],
   "source": [
    "#q10\n",
    "count = 0\n",
    "target = \"Single Family\"\n",
    "\n",
    "for item in blocks:\n",
    "    if len(item['hosts']) != 0:\n",
    "        count += str(f.read_at(int(item['length']), int(item['offset']))).count(target)\n",
    "count"
   ]
  }
 ],
 "metadata": {
  "kernelspec": {
   "display_name": "Python 3 (ipykernel)",
   "language": "python",
   "name": "python3"
  },
  "language_info": {
   "codemirror_mode": {
    "name": "ipython",
    "version": 3
   },
   "file_extension": ".py",
   "mimetype": "text/x-python",
   "name": "python",
   "nbconvert_exporter": "python",
   "pygments_lexer": "ipython3",
   "version": "3.10.12"
  }
 },
 "nbformat": 4,
 "nbformat_minor": 5
}
